{
 "cells": [
  {
   "cell_type": "markdown",
   "metadata": {},
   "source": [
    "# Supervised Learning with scikit learn"
   ]
  },
  {
   "cell_type": "markdown",
   "metadata": {},
   "source": [
    "## Table of contents:\n",
    "\n",
    "* <a href=#Class>Classification</a>\n",
    "* <a href=#Regres>Regression</a>\n",
    "* <a href=#Tuning>Fine-tuning your model</a>\n",
    "* <a href=#Pipe>Preprocessing and pipelines</a>"
   ]
  },
  {
   "cell_type": "markdown",
   "metadata": {},
   "source": [
    "## Load Packages and Set Global Variables"
   ]
  },
  {
   "cell_type": "markdown",
   "metadata": {},
   "source": [
    "<a id=\"imports\"></a>"
   ]
  },
  {
   "cell_type": "code",
   "execution_count": 21,
   "metadata": {},
   "outputs": [],
   "source": [
    "import numpy as np\n",
    "import pandas as pd\n",
    "\n",
    "from sklearn.neighbors import KNeighborsClassifier\n",
    "from sklearn.model_selection import train_test_split, cross_val_score, GridSearchCV, RandomizedSearchCV\n",
    "\n",
    "from sklearn.linear_model import LinearRegression, LogisticRegression, Lasso, Ridge, ElasticNet\n",
    "from sklearn.metrics import mean_squared_error, classification_report, confusion_matrix, roc_curve, roc_auc_score\n",
    "from sklearn.preprocessing import Imputer, scale, StandardScaler\n",
    "from sklearn.pipeline import Pipeline\n",
    "\n",
    "from scipy.stats import randint\n",
    "from sklearn.tree import DecisionTreeClassifier \n",
    "from sklearn.svm import SVC\n",
    "\n",
    "\n",
    "\n",
    "\n",
    "\n",
    "\n",
    "\n",
    "from sklearn import datasets\n",
    "import matplotlib.pyplot as plt"
   ]
  },
  {
   "cell_type": "markdown",
   "metadata": {},
   "source": [
    "## Global Variables"
   ]
  },
  {
   "cell_type": "markdown",
   "metadata": {},
   "source": [
    "All embeddings and clusterings can be saved and loaded into this script. Be carful with overwriting cluster caches as soon as cell type annotation has started as cluster labels may be shuffled."
   ]
  },
  {
   "cell_type": "markdown",
   "metadata": {},
   "source": [
    "Set whether anndata objects are recomputed or loaded from cache."
   ]
  },
  {
   "cell_type": "code",
   "execution_count": 5,
   "metadata": {},
   "outputs": [],
   "source": [
    "bool_recomp = False"
   ]
  },
  {
   "cell_type": "markdown",
   "metadata": {},
   "source": [
    "Set whether clustering is recomputed or loaded from saved .obs file. Loading makes sense if the clustering changes due to a change in scanpy or one of its dependencies and the number of clusters or the cluster labels change accordingly."
   ]
  },
  {
   "cell_type": "code",
   "execution_count": 6,
   "metadata": {},
   "outputs": [],
   "source": [
    "bool_recluster = False"
   ]
  },
  {
   "cell_type": "markdown",
   "metadata": {},
   "source": [
    "Set whether cluster cache is overwritten. Note that the cache exists for reproducibility of clustering, see above."
   ]
  },
  {
   "cell_type": "code",
   "execution_count": 7,
   "metadata": {},
   "outputs": [],
   "source": [
    "bool_write_cluster_cache = False"
   ]
  },
  {
   "cell_type": "markdown",
   "metadata": {},
   "source": [
    "Set whether to produce plots, set to False for test runs."
   ]
  },
  {
   "cell_type": "code",
   "execution_count": 8,
   "metadata": {},
   "outputs": [],
   "source": [
    "bool_plot = False"
   ]
  },
  {
   "cell_type": "markdown",
   "metadata": {},
   "source": [
    "Set whether observations should be calculated. If false, it is necessary to read cacheed file that contains the necssary information. It then shows the the distributions of counts and genes, as well as mt_frac after filtering. \n",
    "Set to true in order to see the data before filtering and follow the decisions for cutoffs."
   ]
  },
  {
   "cell_type": "code",
   "execution_count": 9,
   "metadata": {},
   "outputs": [],
   "source": [
    "bool_create_observations = True"
   ]
  },
  {
   "cell_type": "markdown",
   "metadata": {},
   "source": [
    "<a id=\"Dataloading\"></a>"
   ]
  },
  {
   "cell_type": "markdown",
   "metadata": {},
   "source": [
    "## Classification"
   ]
  },
  {
   "cell_type": "markdown",
   "metadata": {},
   "source": [
    "Create an instance of a k-NN classifier with 6 neighbors (by specifying the n_neighbors parameter) and then fit it to the data."
   ]
  },
  {
   "cell_type": "code",
   "execution_count": 10,
   "metadata": {},
   "outputs": [],
   "source": [
    "if bool_recomp == True:   \n",
    "    # Import KNeighborsClassifier from sklearn.neighbors\n",
    "\n",
    "    # Create arrays for the features and the response variable\n",
    "    y = df['party'].values\n",
    "    X = df.drop('party', axis=1).values\n",
    "\n",
    "    # Create a k-NN classifier with 6 neighbors\n",
    "    knn = KNeighborsClassifier(n_neighbors=6)\n",
    "\n",
    "    # Fit the classifier to the data\n",
    "    knn.fit(X,y)"
   ]
  },
  {
   "cell_type": "markdown",
   "metadata": {},
   "source": [
    "Having fit a k-NN classifier, you can now use it to predict the label of a new data point. "
   ]
  },
  {
   "cell_type": "code",
   "execution_count": 11,
   "metadata": {},
   "outputs": [],
   "source": [
    "if bool_recomp == True:    \n",
    "    # Import KNeighborsClassifier from sklearn.neighbors\n",
    "\n",
    "    # Create arrays for the features and the response variable\n",
    "    y = df['party'].values\n",
    "    X = df.drop(['party'], axis=1).values\n",
    "\n",
    "    # Create a k-NN classifier with 6 neighbors: knn\n",
    "    knn = KNeighborsClassifier(n_neighbors=6)\n",
    "\n",
    "    # Fit the classifier to the data\n",
    "    knn.fit(X,y)\n",
    "\n",
    "    # Predict the labels for the training data X\n",
    "    y_pred = knn.predict(X)\n",
    "\n",
    "    # Predict and print the label for the new data point X_new\n",
    "    new_prediction = knn.predict(X_new)\n",
    "    print(\"Prediction: {}\".format(new_prediction))"
   ]
  },
  {
   "cell_type": "markdown",
   "metadata": {},
   "source": [
    "Multi-class classification with the MNIST digits recognition dataset."
   ]
  },
  {
   "cell_type": "code",
   "execution_count": 14,
   "metadata": {},
   "outputs": [],
   "source": [
    "if bool_recomp == True:\n",
    "    # Load the digits dataset: digits\n",
    "    digits = datasets.load_digits()\n",
    "\n",
    "    # Print the keys and DESCR of the dataset\n",
    "    print(digits.keys())\n",
    "    print(digits.DESCR)\n",
    "\n",
    "    # Print the shape of the images and data keys\n",
    "    print(digits.images.shape)\n",
    "    print(digits.data.shape)\n",
    "\n",
    "    # Display digit 1010\n",
    "    plt.imshow(digits.images[1010], cmap=plt.cm.gray_r, interpolation='nearest')\n",
    "    plt.show()"
   ]
  },
  {
   "cell_type": "markdown",
   "metadata": {},
   "source": [
    "Train/Test Split + Fit/Predict/Accuracy"
   ]
  },
  {
   "cell_type": "code",
   "execution_count": 17,
   "metadata": {},
   "outputs": [],
   "source": [
    "if bool_recomp == True:\n",
    "    # Create feature and target arrays\n",
    "    X = digits.data\n",
    "    y = digits.target\n",
    "\n",
    "    # Split into training and test set\n",
    "    X_train, X_test, y_train, y_test = train_test_split(X, y, test_size = 0.2, random_state=42, stratify=y)\n",
    "\n",
    "    # Create a k-NN classifier with 7 neighbors: knn\n",
    "    knn = KNeighborsClassifier(n_neighbors=7)\n",
    "\n",
    "    # Fit the classifier to the training data\n",
    "    knn.fit(X_train, y_train)\n",
    "\n",
    "    # Print the accuracy\n",
    "    print(knn.score(X_test, y_test))"
   ]
  },
  {
   "cell_type": "markdown",
   "metadata": {},
   "source": [
    "Overfitting and underfitting"
   ]
  },
  {
   "cell_type": "code",
   "execution_count": null,
   "metadata": {},
   "outputs": [],
   "source": [
    "if bool_recomp == True:\n",
    "    # Setup arrays to store train and test accuracies\n",
    "    neighbors = np.arange(1, 9)\n",
    "    train_accuracy = np.empty(len(neighbors))\n",
    "    test_accuracy = np.empty(len(neighbors))\n",
    "\n",
    "    # Loop over different values of k\n",
    "    for i, k in enumerate(neighbors):\n",
    "        # Setup a k-NN Classifier with k neighbors: knn\n",
    "        knn = KNeighborsClassifier(n_neighbors=k)\n",
    "\n",
    "        # Fit the classifier to the training data\n",
    "        knn.fit(X_train, y_train)\n",
    "\n",
    "        #Compute accuracy on the training set\n",
    "        train_accuracy[i] = knn.score(X_train, y_train)\n",
    "\n",
    "        #Compute accuracy on the testing set\n",
    "        test_accuracy[i] = knn.score(X_test, y_test)\n",
    "\n",
    "    # Generate plot\n",
    "    plt.title('k-NN: Varying Number of Neighbors')\n",
    "    plt.plot(neighbors, test_accuracy, label = 'Testing Accuracy')\n",
    "    plt.plot(neighbors, train_accuracy, label = 'Training Accuracy')\n",
    "    plt.legend()\n",
    "    plt.xlabel('Number of Neighbors')\n",
    "    plt.ylabel('Accuracy')\n",
    "    plt.show()"
   ]
  },
  {
   "cell_type": "markdown",
   "metadata": {},
   "source": [
    "## Regression"
   ]
  },
  {
   "cell_type": "markdown",
   "metadata": {},
   "source": [
    "Import the data for supervised learning and get it into the form needed by scikit-learn"
   ]
  },
  {
   "cell_type": "code",
   "execution_count": null,
   "metadata": {},
   "outputs": [],
   "source": [
    "if bool_recomp == True:\n",
    "    # Read the CSV file into a DataFrame: df\n",
    "    df = pd.read_csv('gapminder.csv')\n",
    "\n",
    "    # Create arrays for features and target variable\n",
    "    y = df['life'].values\n",
    "    X = df['fertility'].values\n",
    "\n",
    "    # Print the dimensions of y and X before reshaping\n",
    "    print(\"Dimensions of y before reshaping: \", y.shape)\n",
    "    print(\"Dimensions of X before reshaping: \", X.shape)\n",
    "\n",
    "    # Reshape X and y\n",
    "    y_reshaped = y.reshape(-1,1)\n",
    "    X_reshaped = X.reshape(-1,1)\n",
    "\n",
    "    # Print the dimensions of y_reshaped and X_reshaped\n",
    "    print(\"Dimensions of y after reshaping: \", y_reshaped.shape)\n",
    "    print(\"Dimensions of X after reshaping: \", X_reshaped.shape)"
   ]
  },
  {
   "cell_type": "markdown",
   "metadata": {},
   "source": [
    "Fit & predict for regression"
   ]
  },
  {
   "cell_type": "code",
   "execution_count": 18,
   "metadata": {},
   "outputs": [],
   "source": [
    "if bool_recomp == True:\n",
    "    # Create the regressor: reg\n",
    "    reg = LinearRegression()\n",
    "\n",
    "    # Create the prediction space\n",
    "    prediction_space = np.linspace(min(X_fertility), max(X_fertility)).reshape(-1,1)\n",
    "\n",
    "    # Fit the model to the data\n",
    "    reg.fit(X_fertility, y)\n",
    "\n",
    "    # Compute predictions over the prediction space: y_pred\n",
    "    y_pred = reg.predict(prediction_space)\n",
    "\n",
    "    # Print R^2 \n",
    "    print(reg.score(X_fertility, y))\n",
    "\n",
    "    # Plot regression line\n",
    "    plt.plot(prediction_space, y_pred, color='black', linewidth=3)\n",
    "    plt.show()"
   ]
  },
  {
   "cell_type": "markdown",
   "metadata": {},
   "source": [
    "Train/test split for regression"
   ]
  },
  {
   "cell_type": "code",
   "execution_count": null,
   "metadata": {},
   "outputs": [],
   "source": [
    "if bool_recomp == True:    \n",
    "    # Create training and test sets\n",
    "    X_train, X_test, y_train, y_test = train_test_split(X, y, test_size = 0.3, random_state=42)\n",
    "\n",
    "    # Create the regressor: reg_all\n",
    "    reg_all = LinearRegression()\n",
    "\n",
    "    # Fit the regressor to the training data\n",
    "    reg_all.fit(X_train, y_train)\n",
    "\n",
    "    # Predict on the test data: y_pred\n",
    "    y_pred = reg_all.predict(X_test)\n",
    "\n",
    "    # Compute and print R^2 and RMSE\n",
    "    print(\"R^2: {}\".format(reg_all.score(X_test, y_test)))\n",
    "    rmse = np.sqrt(mean_squared_error(y_test,y_pred))\n",
    "    print(\"Root Mean Squared Error: {}\".format(rmse))"
   ]
  },
  {
   "cell_type": "markdown",
   "metadata": {},
   "source": [
    "5-fold cross-validation"
   ]
  },
  {
   "cell_type": "code",
   "execution_count": null,
   "metadata": {},
   "outputs": [],
   "source": [
    "if bool_recomp == True:    \n",
    "    # Create a linear regression object: reg\n",
    "    reg = LinearRegression()\n",
    "\n",
    "    # Compute 5-fold cross-validation scores: cv_scores\n",
    "    cv_scores = cross_val_score(reg, X, y, cv=5)\n",
    "\n",
    "    # Print the 5-fold cross-validation scores\n",
    "    print(cv_scores)\n",
    "\n",
    "    print(\"Average 5-Fold CV Score: {}\".format(np.mean(cv_scores)))"
   ]
  },
  {
   "cell_type": "markdown",
   "metadata": {},
   "source": [
    "K-Fold CV comparison"
   ]
  },
  {
   "cell_type": "code",
   "execution_count": null,
   "metadata": {},
   "outputs": [],
   "source": [
    "if bool_recomp == True:    \n",
    "    # Create a linear regression object: reg\n",
    "    reg = LinearRegression()\n",
    "\n",
    "    # Perform 3-fold CV\n",
    "    cvscores_3 = cross_val_score(reg, X, y, cv=3)\n",
    "    print(np.mean(cvscores_3))\n",
    "\n",
    "    # Perform 10-fold CV\n",
    "    cvscores_10 = cross_val_score(reg, X, y, cv=10)\n",
    "    print(np.mean(cvscores_10))"
   ]
  },
  {
   "cell_type": "markdown",
   "metadata": {},
   "source": [
    "Lasso regularization "
   ]
  },
  {
   "cell_type": "code",
   "execution_count": 19,
   "metadata": {},
   "outputs": [],
   "source": [
    "if bool_recomp == True:     \n",
    "    # Instantiate a lasso regressor: lasso\n",
    "    lasso = Lasso(alpha=0.4, normalize=True)\n",
    "\n",
    "    # Fit the regressor to the data\n",
    "    lasso.fit(X, y)\n",
    "\n",
    "    # Compute and print the coefficients\n",
    "    lasso_coef = lasso.fit(X,y).coef_\n",
    "    print(lasso_coef)\n",
    "\n",
    "    # Plot the coefficients\n",
    "    plt.plot(range(len(df_columns)), lasso_coef)\n",
    "    plt.xticks(range(len(df_columns)), df_columns.values, rotation=60)\n",
    "    plt.margins(0.02)\n",
    "    plt.show()"
   ]
  },
  {
   "cell_type": "markdown",
   "metadata": {},
   "source": [
    "Ridge regularization"
   ]
  },
  {
   "cell_type": "code",
   "execution_count": null,
   "metadata": {},
   "outputs": [],
   "source": [
    "if bool_recomp == True: \n",
    "    \n",
    "    def display_plot(cv_scores, cv_scores_std):\n",
    "        fig = plt.figure()\n",
    "        ax = fig.add_subplot(1,1,1)\n",
    "        ax.plot(alpha_space, cv_scores)\n",
    "\n",
    "        std_error = cv_scores_std / np.sqrt(10)\n",
    "\n",
    "        ax.fill_between(alpha_space, cv_scores + std_error, cv_scores - std_error, alpha=0.2)\n",
    "        ax.set_ylabel('CV Score +/- Std Error')\n",
    "        ax.set_xlabel('Alpha')\n",
    "        ax.axhline(np.max(cv_scores), linestyle='--', color='.5')\n",
    "        ax.set_xlim([alpha_space[0], alpha_space[-1]])\n",
    "        ax.set_xscale('log')\n",
    "        plt.show()\n",
    "    \n",
    "    # Setup the array of alphas and lists to store scores\n",
    "    alpha_space = np.logspace(-4, 0, 50)\n",
    "    ridge_scores = []\n",
    "    ridge_scores_std = []\n",
    "\n",
    "    # Create a ridge regressor: ridge\n",
    "    ridge = Ridge(normalize=True)\n",
    "\n",
    "    # Compute scores over range of alphas\n",
    "    for alpha in alpha_space:\n",
    "\n",
    "        # Specify the alpha value to use: ridge.alpha\n",
    "        ridge.alpha = alpha\n",
    "\n",
    "        # Perform 10-fold CV: ridge_cv_scores\n",
    "        ridge_cv_scores = cross_val_score(ridge, X, y, cv=10)\n",
    "\n",
    "        # Append the mean of ridge_cv_scores to ridge_scores\n",
    "        ridge_scores.append(np.mean(ridge_cv_scores))\n",
    "\n",
    "        # Append the std of ridge_cv_scores to ridge_scores_std\n",
    "        ridge_scores_std.append(np.std(ridge_cv_scores))\n",
    "\n",
    "    # Display the plot\n",
    "    display_plot(ridge_scores, ridge_scores_std)\n"
   ]
  },
  {
   "cell_type": "markdown",
   "metadata": {},
   "source": [
    "## Fine-tunning your model"
   ]
  },
  {
   "cell_type": "markdown",
   "metadata": {},
   "source": [
    "Metrics for classification - train a k-NN classifier to the data and evaluate its performance by generating a confusion matrix and classification report."
   ]
  },
  {
   "cell_type": "code",
   "execution_count": 20,
   "metadata": {},
   "outputs": [],
   "source": [
    "if bool_recomp == True:     \n",
    "    # Create training and test set\n",
    "    X_train, X_test, y_train, y_test = train_test_split(X, y, test_size=0.4, random_state=42)\n",
    "\n",
    "    # Instantiate a k-NN classifier: knn\n",
    "    knn = KNeighborsClassifier(n_neighbors=6)\n",
    "\n",
    "    # Fit the classifier to the training data\n",
    "    knn.fit(X_train, y_train)\n",
    "\n",
    "    # Predict the labels of the test data: y_pred\n",
    "    y_pred = knn.predict(X_test)\n",
    "\n",
    "    # Generate the confusion matrix and classification report\n",
    "    print(confusion_matrix(y_test, y_pred))\n",
    "    print(classification_report(y_test, y_pred))"
   ]
  },
  {
   "cell_type": "markdown",
   "metadata": {},
   "source": [
    "Building a logistic regression model"
   ]
  },
  {
   "cell_type": "code",
   "execution_count": 25,
   "metadata": {},
   "outputs": [],
   "source": [
    "if bool_recomp == True:  \n",
    "    # Create training and test sets\n",
    "    X_train, X_test, y_train, y_test = train_test_split(X, y, test_size = 0.4, random_state=42)\n",
    "\n",
    "    # Create the classifier: logreg\n",
    "    logreg = LogisticRegression()\n",
    "\n",
    "    # Fit the classifier to the training data\n",
    "    logreg.fit(X_train, y_train)\n",
    "\n",
    "    # Predict the labels of the test set: y_pred\n",
    "    y_pred = logreg.predict(X_test)\n",
    "\n",
    "    # Compute and print the confusion matrix and classification report\n",
    "    print(confusion_matrix(y_test, y_pred))\n",
    "    print(classification_report(y_test, y_pred))"
   ]
  },
  {
   "cell_type": "markdown",
   "metadata": {},
   "source": [
    "Plotting an ROC curve"
   ]
  },
  {
   "cell_type": "code",
   "execution_count": 26,
   "metadata": {},
   "outputs": [],
   "source": [
    "if bool_recomp == True: \n",
    "    # Compute predicted probabilities: y_pred_prob\n",
    "    y_pred_prob = logreg.predict_proba(X_test)[:,1]\n",
    "\n",
    "    # Generate ROC curve values: fpr, tpr, thresholds\n",
    "    fpr, tpr, thresholds = roc_curve(y_test, y_pred_prob)\n",
    "\n",
    "    # Plot ROC curve\n",
    "    plt.plot([0, 1], [0, 1], 'k--')\n",
    "    plt.plot(fpr, tpr, label='Logistiic Regression')\n",
    "    plt.xlabel('False Positive Rate')\n",
    "    plt.ylabel('True Positive Rate')\n",
    "    plt.title('ROC Curve')\n",
    "    plt.show()"
   ]
  },
  {
   "cell_type": "markdown",
   "metadata": {},
   "source": [
    "AUC computation"
   ]
  },
  {
   "cell_type": "code",
   "execution_count": 27,
   "metadata": {},
   "outputs": [],
   "source": [
    "if bool_recomp == True: \n",
    "    # Compute predicted probabilities: y_pred_prob\n",
    "    y_pred_prob = logreg.predict_proba(X_test)[:,1]\n",
    "\n",
    "    # Compute and print AUC score\n",
    "    print(\"AUC: {}\".format(roc_auc_score(y_test, y_pred_prob)))\n",
    "\n",
    "    # Compute cross-validated AUC scores: cv_auc\n",
    "    cv_auc = cross_val_score(logreg, X, y, cv=5, scoring='roc_auc')\n",
    "\n",
    "    # Print list of AUC scores\n",
    "    print(\"AUC scores computed using 5-fold cross-validation: {}\".format(cv_auc))"
   ]
  },
  {
   "cell_type": "markdown",
   "metadata": {},
   "source": [
    "Hyperparameter tuning with GridSearchCV - focus on the process of setting up the hyperparameter grid and performing grid-search cross-validation"
   ]
  },
  {
   "cell_type": "code",
   "execution_count": 28,
   "metadata": {},
   "outputs": [],
   "source": [
    "if bool_recomp == True: \n",
    "    # Setup the hyperparameter grid\n",
    "    c_space = np.logspace(-5, 8, 15)\n",
    "    param_grid = {'C': c_space}\n",
    "\n",
    "    # Instantiate a logistic regression classifier: logreg\n",
    "    logreg = LogisticRegression()\n",
    "\n",
    "    # Instantiate the GridSearchCV object: logreg_cv\n",
    "    logreg_cv = GridSearchCV(logreg, param_grid, cv=5)\n",
    "\n",
    "    # Fit it to the data\n",
    "    logreg_cv.fit(X,y)\n",
    "\n",
    "    # Print the tuned parameters and score\n",
    "    print(\"Tuned Logistic Regression Parameters: {}\".format(logreg_cv.best_params_)) \n",
    "    print(\"Best score is {}\".format(logreg_cv.best_score_))"
   ]
  },
  {
   "cell_type": "markdown",
   "metadata": {},
   "source": [
    "Hyperparameter tuning with RandomizedSearchCV"
   ]
  },
  {
   "cell_type": "code",
   "execution_count": 29,
   "metadata": {},
   "outputs": [],
   "source": [
    "if bool_recomp == True: \n",
    "    # Setup the parameters and distributions to sample from: param_dist\n",
    "    param_dist = {\"max_depth\": [3, None],\n",
    "                  \"max_features\": randint(1, 9),\n",
    "                  \"min_samples_leaf\": randint(1, 9),\n",
    "                  \"criterion\": [\"gini\", \"entropy\"]}\n",
    "\n",
    "    # Instantiate a Decision Tree classifier: tree\n",
    "    tree = DecisionTreeClassifier()\n",
    "\n",
    "    # Instantiate the RandomizedSearchCV object: tree_cv\n",
    "    tree_cv = RandomizedSearchCV(tree, param_dist, cv=5)\n",
    "\n",
    "    # Fit it to the data\n",
    "    tree_cv.fit(X, y)\n",
    "\n",
    "    # Print the tuned parameters and score\n",
    "    print(\"Tuned Decision Tree Parameters: {}\".format(tree_cv.best_params_))\n",
    "    print(\"Best score is {}\".format(tree_cv.best_score_))"
   ]
  },
  {
   "cell_type": "markdown",
   "metadata": {},
   "source": [
    "Hold-out set in practice I: Classification"
   ]
  },
  {
   "cell_type": "code",
   "execution_count": 30,
   "metadata": {},
   "outputs": [],
   "source": [
    "if bool_recomp == True: \n",
    "    # Create the hyperparameter grid\n",
    "    c_space = np.logspace(-5, 8, 15)\n",
    "    param_grid = {'C': c_space, 'penalty': ['l1', 'l2']}\n",
    "\n",
    "    # Instantiate the logistic regression classifier: logreg\n",
    "    logreg = LogisticRegression()\n",
    "\n",
    "    # Create train and test sets\n",
    "    X_train, X_test, y_train, y_test = train_test_split(X, y, test_size = 0.4, random_state=42)\n",
    "\n",
    "    # Instantiate the GridSearchCV object: logreg_cv\n",
    "    logreg_cv = GridSearchCV(logreg, param_grid, cv=5)\n",
    "\n",
    "    # Fit it to the training data\n",
    "    logreg_cv.fit(X_train, y_train)\n",
    "\n",
    "    # Print the optimal parameters and best score\n",
    "    print(\"Tuned Logistic Regression Parameter: {}\".format(logreg_cv.best_params_))\n",
    "    print(\"Tuned Logistic Regression Accuracy: {}\".format(logreg_cv.best_score_))"
   ]
  },
  {
   "cell_type": "markdown",
   "metadata": {},
   "source": [
    "Hold-out set in practice II: Regression"
   ]
  },
  {
   "cell_type": "code",
   "execution_count": 31,
   "metadata": {},
   "outputs": [],
   "source": [
    "if bool_recomp == True: \n",
    "    # Create train and test sets\n",
    "    X_train, X_test, y_train, y_test = train_test_split(X, y, test_size=0.4, random_state=42)\n",
    "\n",
    "    # Create the hyperparameter grid\n",
    "    l1_space = np.linspace(0, 1, 30)\n",
    "    param_grid = {'l1_ratio': l1_space}\n",
    "\n",
    "    # Instantiate the ElasticNet regressor: elastic_net\n",
    "    elastic_net = ElasticNet()\n",
    "\n",
    "    # Setup the GridSearchCV object: gm_cv\n",
    "    gm_cv = GridSearchCV(elastic_net, param_grid, cv=5)\n",
    "\n",
    "    # Fit it to the training data\n",
    "    gm_cv.fit(X_train, y_train)\n",
    "\n",
    "    # Predict on the test set and compute metrics\n",
    "    y_pred = gm_cv.predict(X_test)\n",
    "    r2 = gm_cv.score(X_test, y_test)\n",
    "    mse = mean_squared_error(y_test, y_pred)\n",
    "    print(\"Tuned ElasticNet l1 ratio: {}\".format(gm_cv.best_params_))\n",
    "    print(\"Tuned ElasticNet R squared: {}\".format(r2))\n",
    "    print(\"Tuned ElasticNet MSE: {}\".format(mse))"
   ]
  },
  {
   "cell_type": "markdown",
   "metadata": {},
   "source": [
    "## Preprocessing and pipelines"
   ]
  },
  {
   "cell_type": "markdown",
   "metadata": {},
   "source": [
    "Exploring categorical features - Boxplots are particularly useful for visualizing categorical features"
   ]
  },
  {
   "cell_type": "code",
   "execution_count": 32,
   "metadata": {},
   "outputs": [],
   "source": [
    "if bool_recomp == True: \n",
    "    # Read 'gapminder.csv' into a DataFrame: df\n",
    "    df = pd.read_csv('gapminder.csv')\n",
    "\n",
    "    # Create a boxplot of life expectancy per region\n",
    "    df.boxplot(column='life', by='Region', rot=60)\n",
    "\n",
    "    # Show the plot\n",
    "    plt.show()"
   ]
  },
  {
   "cell_type": "markdown",
   "metadata": {},
   "source": [
    "Creating dummy variables"
   ]
  },
  {
   "cell_type": "code",
   "execution_count": 33,
   "metadata": {},
   "outputs": [],
   "source": [
    "if bool_recomp == True: \n",
    "    # Create dummy variables: df_region\n",
    "    df_region = pd.get_dummies(df)\n",
    "\n",
    "    # Print the columns of df_region\n",
    "    print(df_region.columns)\n",
    "\n",
    "    # Create dummy variables with drop_first=True: df_region\n",
    "    df_region = pd.get_dummies(df, drop_first=True)\n",
    "\n",
    "    # Print the new columns of df_region\n",
    "    print(df_region.columns)"
   ]
  },
  {
   "cell_type": "markdown",
   "metadata": {},
   "source": [
    "Regression with categorical features"
   ]
  },
  {
   "cell_type": "code",
   "execution_count": 34,
   "metadata": {},
   "outputs": [],
   "source": [
    "if bool_recomp == True: \n",
    "    # Instantiate a ridge regressor: ridge\n",
    "    ridge = Ridge(alpha=0.5, normalize=True)\n",
    "\n",
    "    # Perform 5-fold cross-validation: ridge_cv\n",
    "    ridge_cv = cross_val_score(ridge, X, y, cv=5)\n",
    "\n",
    "    # Print the cross-validated scores\n",
    "    print(ridge_cv)"
   ]
  },
  {
   "cell_type": "markdown",
   "metadata": {},
   "source": [
    "Dropping missing data"
   ]
  },
  {
   "cell_type": "code",
   "execution_count": 35,
   "metadata": {},
   "outputs": [],
   "source": [
    "if bool_recomp == True: \n",
    "    # Convert '?' to NaN\n",
    "    df[df == '?'] = np.nan\n",
    "\n",
    "    # Print the number of NaNs\n",
    "    print(df.isnull().sum())\n",
    "\n",
    "    # Print shape of original DataFrame\n",
    "    print(\"Shape of Original DataFrame: {}\".format(df.shape))\n",
    "\n",
    "    # Drop missing values and print shape of new DataFrame\n",
    "    df = df.dropna()\n",
    "\n",
    "    # Print shape of new DataFrame\n",
    "    print(\"Shape of DataFrame After Dropping All Rows with Missing Values: {}\".format(df.shape))"
   ]
  },
  {
   "cell_type": "markdown",
   "metadata": {},
   "source": [
    "Imputing missing data in a ML Pipeline I"
   ]
  },
  {
   "cell_type": "code",
   "execution_count": 36,
   "metadata": {},
   "outputs": [],
   "source": [
    "if bool_recomp == True:\n",
    "    # Setup the Imputation transformer: imp\n",
    "    imp = Imputer(missing_values='NaN', strategy='most_frequent', axis=0)\n",
    "\n",
    "    # Instantiate the SVC classifier: clf\n",
    "    clf = SVC()\n",
    "\n",
    "    # Setup the pipeline with the required steps: steps\n",
    "    steps = [('imputation', imp),\n",
    "            ('SVM', clf)]"
   ]
  },
  {
   "cell_type": "markdown",
   "metadata": {},
   "source": [
    "Imputing missing data in a ML Pipeline II"
   ]
  },
  {
   "cell_type": "code",
   "execution_count": 37,
   "metadata": {},
   "outputs": [],
   "source": [
    "if bool_recomp == True:\n",
    "    # Setup the pipeline steps: steps\n",
    "    steps = [('imputation', Imputer(missing_values='NaN', strategy='most_frequent', axis=0)),\n",
    "            ('SVM', SVC())]\n",
    "\n",
    "    # Create the pipeline: pipeline\n",
    "    pipeline = Pipeline(steps)\n",
    "\n",
    "    # Create training and test sets\n",
    "    X_train, X_test, y_train, y_test = train_test_split(X, y, test_size=0.3, random_state=42)\n",
    "\n",
    "    # Fit the pipeline to the train set\n",
    "    pipeline.fit(X_train, y_train)\n",
    "\n",
    "    # Predict the labels of the test set\n",
    "    y_pred = pipeline.predict(X_test)\n",
    "\n",
    "    # Compute metrics\n",
    "    print(classification_report(y_test, y_pred))"
   ]
  },
  {
   "cell_type": "markdown",
   "metadata": {},
   "source": [
    "Centering and scaling your data"
   ]
  },
  {
   "cell_type": "code",
   "execution_count": 38,
   "metadata": {},
   "outputs": [],
   "source": [
    "if bool_recomp == True:\n",
    "    # Scale the features: X_scaled\n",
    "    X_scaled = scale(X)\n",
    "\n",
    "    # Print the mean and standard deviation of the unscaled features\n",
    "    print(\"Mean of Unscaled Features: {}\".format(np.mean(X))) \n",
    "    print(\"Standard Deviation of Unscaled Features: {}\".format(np.std(X)))\n",
    "\n",
    "    # Print the mean and standard deviation of the scaled features\n",
    "    print(\"Mean of Scaled Features: {}\".format(np.mean(X_scaled))) \n",
    "    print(\"Standard Deviation of Scaled Features: {}\".format(np.std(X_scaled)))"
   ]
  },
  {
   "cell_type": "markdown",
   "metadata": {},
   "source": [
    "Centering and scaling in a pipeline"
   ]
  },
  {
   "cell_type": "code",
   "execution_count": 39,
   "metadata": {},
   "outputs": [],
   "source": [
    "if bool_recomp == True:\n",
    "    # Setup the pipeline steps: steps\n",
    "    steps = [('scaler', StandardScaler()),\n",
    "            ('knn', KNeighborsClassifier())]\n",
    "\n",
    "    # Create the pipeline: pipeline\n",
    "    pipeline = Pipeline(steps)\n",
    "\n",
    "    # Create train and test sets\n",
    "    X_train, X_test, y_train, y_test = train_test_split(X, y, test_size=0.3, random_state=42)\n",
    "\n",
    "    # Fit the pipeline to the training set: knn_scaled\n",
    "    knn_scaled = pipeline.fit(X_train, y_train)\n",
    "\n",
    "    # Instantiate and fit a k-NN classifier to the unscaled data\n",
    "    knn_unscaled = KNeighborsClassifier().fit(X_train, y_train)\n",
    "\n",
    "    # Compute and print metrics\n",
    "    print('Accuracy with Scaling: {}'.format(knn_scaled.score(X_test, y_test)))\n",
    "    print('Accuracy without Scaling: {}'.format(knn_unscaled.score(X_test, y_test)))"
   ]
  },
  {
   "cell_type": "markdown",
   "metadata": {},
   "source": [
    "Bringing it all together I: Pipeline for classification"
   ]
  },
  {
   "cell_type": "code",
   "execution_count": 40,
   "metadata": {},
   "outputs": [],
   "source": [
    "if bool_recomp == True:\n",
    "    # Setup the pipeline\n",
    "    steps = [('scaler', StandardScaler()),\n",
    "             ('SVM', SVC())]\n",
    "\n",
    "    pipeline = Pipeline(steps)\n",
    "\n",
    "    # Specify the hyperparameter space\n",
    "    parameters = {'SVM__C':[1, 10, 100],\n",
    "                  'SVM__gamma':[0.1, 0.01]}\n",
    "\n",
    "    # Create train and test sets\n",
    "    X_train, X_test, y_train, y_test = train_test_split(X, y, test_size=0.2, random_state=21)\n",
    "\n",
    "    # Instantiate the GridSearchCV object: cv\n",
    "    cv = GridSearchCV(pipeline, param_grid=parameters)\n",
    "\n",
    "    # Fit to the training set\n",
    "    cv.fit(X_train, y_train)\n",
    "\n",
    "    # Predict the labels of the test set: y_pred\n",
    "    y_pred = cv.predict(X_test)\n",
    "\n",
    "    # Compute and print metrics\n",
    "    print(\"Accuracy: {}\".format(cv.score(X_test, y_test)))\n",
    "    print(classification_report(y_test, y_pred))\n",
    "    print(\"Tuned Model Parameters: {}\".format(cv.best_params_))"
   ]
  },
  {
   "cell_type": "markdown",
   "metadata": {},
   "source": [
    "Bringing it all together II: Pipeline for regression"
   ]
  },
  {
   "cell_type": "code",
   "execution_count": 41,
   "metadata": {},
   "outputs": [],
   "source": [
    "if bool_recomp == True:\n",
    "    # Setup the pipeline steps: steps\n",
    "    steps = [('imputation', Imputer(missing_values='NaN', strategy='mean', axis=0)),\n",
    "             ('scaler', StandardScaler()),\n",
    "             ('elasticnet', ElasticNet())]\n",
    "\n",
    "    # Create the pipeline: pipeline \n",
    "    pipeline = Pipeline(steps)\n",
    "\n",
    "    # Specify the hyperparameter space\n",
    "    parameters = {'elasticnet__l1_ratio': np.linspace(0,1,30)}\n",
    "\n",
    "    # Create train and test sets\n",
    "    X_train, X_test, y_train, y_test = train_test_split(X, y, test_size=0.4, random_state=42)\n",
    "\n",
    "    # Create the GridSearchCV object: gm_cv\n",
    "    gm_cv = GridSearchCV(pipeline, param_grid=parameters)\n",
    "\n",
    "    # Fit to the training set\n",
    "    gm_cv.fit(X_train, y_train)\n",
    "\n",
    "    # Compute and print the metrics\n",
    "    r2 = gm_cv.score(X_test, y_test)\n",
    "    print(\"Tuned ElasticNet Alpha: {}\".format(gm_cv.best_params_))\n",
    "    print(\"Tuned ElasticNet R squared: {}\".format(r2))"
   ]
  },
  {
   "cell_type": "code",
   "execution_count": null,
   "metadata": {},
   "outputs": [],
   "source": []
  }
 ],
 "metadata": {
  "kernelspec": {
   "display_name": "Python 3",
   "language": "python",
   "name": "python3"
  },
  "language_info": {
   "codemirror_mode": {
    "name": "ipython",
    "version": 3
   },
   "file_extension": ".py",
   "mimetype": "text/x-python",
   "name": "python",
   "nbconvert_exporter": "python",
   "pygments_lexer": "ipython3",
   "version": "3.9.2"
  },
  "toc": {
   "base_numbering": 1,
   "nav_menu": {},
   "number_sections": true,
   "sideBar": true,
   "skip_h1_title": false,
   "title_cell": "Table of Contents",
   "title_sidebar": "Contents",
   "toc_cell": false,
   "toc_position": {},
   "toc_section_display": true,
   "toc_window_display": true
  }
 },
 "nbformat": 4,
 "nbformat_minor": 2
}
